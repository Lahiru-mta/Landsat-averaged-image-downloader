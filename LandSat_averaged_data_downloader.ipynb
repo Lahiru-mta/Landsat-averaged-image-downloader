{
  "nbformat": 4,
  "nbformat_minor": 0,
  "metadata": {
    "colab": {
      "provenance": [],
      "authorship_tag": "ABX9TyPSJLOIOxoD8QC5ljjzePrF",
      "include_colab_link": true
    },
    "kernelspec": {
      "name": "python3",
      "display_name": "Python 3"
    },
    "language_info": {
      "name": "python"
    }
  },
  "cells": [
    {
      "cell_type": "markdown",
      "metadata": {
        "id": "view-in-github",
        "colab_type": "text"
      },
      "source": [
        "<a href=\"https://colab.research.google.com/github/Lahiru-mta/Landsat-averaged-image-downloader/blob/main/LandSat_averaged_data_downloader.ipynb\" target=\"_parent\"><img src=\"https://colab.research.google.com/assets/colab-badge.svg\" alt=\"Open In Colab\"/></a>"
      ]
    },
    {
      "cell_type": "code",
      "execution_count": 1,
      "metadata": {
        "colab": {
          "base_uri": "https://localhost:8080/"
        },
        "cellView": "form",
        "id": "CEzR7YrXFVKr",
        "outputId": "2a5f3a15-9eeb-4f86-94fc-eadf07044255"
      },
      "outputs": [
        {
          "output_type": "stream",
          "name": "stdout",
          "text": [
            "To authorize access needed by Earth Engine, open the following URL in a web browser and follow the instructions. If the web browser does not start automatically, please manually browse the URL below.\n",
            "\n",
            "    https://code.earthengine.google.com/client-auth?scopes=https%3A//www.googleapis.com/auth/earthengine%20https%3A//www.googleapis.com/auth/devstorage.full_control&request_id=UWdzoGetG6uVCfPwEYly9405rEQNKmRYhDAxpk14F7o&tc=C-nExu5FsEaIClbZXg5peNHOAwetP8Obe03In7pz6eE&cc=_rz3usZwTMs4UZyt_HqPEd04TIegxB7U0D059SPMWQE\n",
            "\n",
            "The authorization workflow will generate a code, which you should paste in the box below.\n",
            "Enter verification code: 4/1ARtbsJp5GG5WX-FaGREzSXRg_6kRS6VXg-tj42JWEQsxSA-L6lKrQ0CuZiY\n",
            "\n",
            "Successfully saved authorization token.\n"
          ]
        }
      ],
      "source": [
        "#@title Get authorize access by Earth Engine\n",
        "import ee\n",
        "# Trigger the authentication flow.\n",
        "ee.Authenticate()\n",
        "\n",
        "# Initialize the library.\n",
        "ee.Initialize()"
      ]
    },
    {
      "cell_type": "code",
      "source": [
        "#@title Connect to Google Drive\n",
        "#@markdown (To save outputs in the drive)\n",
        "from google.colab import drive\n",
        "drive.mount('/content/drive')"
      ],
      "metadata": {
        "colab": {
          "base_uri": "https://localhost:8080/"
        },
        "cellView": "form",
        "id": "qfGnXlmxF1j4",
        "outputId": "c860dfb2-29db-407e-8cc3-77f1b0ea9195"
      },
      "execution_count": 2,
      "outputs": [
        {
          "output_type": "stream",
          "name": "stdout",
          "text": [
            "Drive already mounted at /content/drive; to attempt to forcibly remount, call drive.mount(\"/content/drive\", force_remount=True).\n"
          ]
        }
      ]
    },
    {
      "cell_type": "code",
      "source": [
        "#@title Import dependencies\n",
        "from IPython.display import clear_output \n",
        "\n",
        "!pip install geemap --quiet\n",
        "clear_output()\n",
        "!pip install pydub --quiet\n",
        "clear_output()\n",
        "!pip install geopandas --quiet\n",
        "clear_output()\n",
        "\n",
        "import matplotlib.pyplot as plt\n",
        "import numpy as np\n",
        "import pandas as pd\n",
        "from scipy.stats import norm, gamma, f, chi2\n",
        "import IPython.display as disp\n",
        "from IPython.display import clear_output \n",
        "from IPython.utils import io\n",
        "import ipywidgets as widgets\n",
        "%matplotlib inline\n",
        "from datetime import datetime, timedelta\n",
        "import gdown\n",
        "import geemap\n",
        "import time\n",
        "\n",
        "from tqdm.notebook import tqdm\n",
        "\n",
        "import shutil\n",
        "import os\n",
        "import zipfile\n",
        "from pydub import AudioSegment\n",
        "from pydub.utils import make_chunks\n",
        "\n",
        "#for raster manupulation\n",
        "!pip install rasterio --quiet\n",
        "import rasterio\n",
        "from rasterio.merge import merge\n",
        "import glob\n",
        "from rasterio.plot import show\n",
        "\n",
        "clear_output()"
      ],
      "metadata": {
        "cellView": "form",
        "id": "PHVnOiJ9I4pH"
      },
      "execution_count": 3,
      "outputs": []
    },
    {
      "cell_type": "code",
      "source": [
        "#@title Functions\n",
        "\n",
        "def tometers(degrees):\n",
        "  return(degrees * 111139)\n",
        "\n",
        "def todegrees(meters):\n",
        "  return(meters / 111139)\n",
        "\n",
        "def rectangle(lon_1, lon_2, lat_1, lat_2):\n",
        "    AOI_coordinates =  [[lon_1, lat_2],\n",
        "                        [lon_1, lat_1],\n",
        "                        [lon_2, lat_1],\n",
        "                        [lon_2, lat_2],\n",
        "                        [lon_1, lat_2]]\n",
        "\n",
        "    aoi = ee.Geometry.Polygon(AOI_coordinates)\n",
        "    return aoi\n"
      ],
      "metadata": {
        "cellView": "form",
        "id": "sl-ZTR3PnvoY"
      },
      "execution_count": 4,
      "outputs": []
    },
    {
      "cell_type": "code",
      "source": [
        "#@title Import the shape file of the study area\n",
        "#@markdown paste the Google Drive Shared link of the Zip below ex: \" https://drive.google.com/file/d/1QKimP8DQl7cgHJ8SpYitwTOwvPGdu-lt/view?usp=sharing \"\n",
        "ZIP_link = 'https://drive.google.com/file/d/1M64mxw-TvHfIkdAlmdYx7_joFpaTH4a6/view?usp=sharing'#@param{type : \"string\"}\n",
        "# 'https://drive.google.com/uc?id=1P3EFH5v8pOkJOUbDEmB_EpmqIbrHUZHk'\n",
        "url = 'https://drive.google.com/uc?id=' + ZIP_link[32:65]\n",
        "File_name = 'field_data' #param{type : \"string\"}\n",
        "#@markdown *  ***please make sure the shape file is in WGS84 projection***\n",
        "out = File_name +'.zip'\n",
        "\n",
        "d_file_name = gdown.download(url, out, quiet=True)\n",
        "\n",
        "zip_file = '/content/'+out\n",
        "path = '/content/'+ File_name\n",
        "zip_ref = zipfile.ZipFile(zip_file)\n",
        "try:\n",
        "    os.mkdir(path)\n",
        "except:\n",
        "    print('')\n",
        "zip_ref.extractall(path)\n",
        "zip_ref.close()\n",
        "\n",
        "arr = os.listdir(path)\n",
        "arr2=[]\n",
        "for i in range(len(arr)):\n",
        "  if arr[i].endswith('shp'):\n",
        "    arr2.append(arr[i])\n",
        "# print(arr2)\n",
        "\n",
        "if len(arr2)>1:\n",
        "\n",
        "  print(d_file_name+' contains '+str(len(arr2))+' shape files\\n'\n",
        "          + 'Select the required shape file below')\n",
        "\n",
        "  shape_file = widgets.Dropdown(    options=arr2,    value=arr2[0],    description='Shape File:')\n",
        "  display(shape_file)\n",
        "else:\n",
        "  shape_file = arr2[0]\n",
        "\n",
        "# https://github.com/giswqs/geemap/blob/master/examples/notebooks/10_shapefiles.ipynb\n",
        "# Refer the following code as well\n",
        "# https://colab.research.google.com/github/csaybar/EEwPython/blob/master/4_features.ipynb\n"
      ],
      "metadata": {
        "cellView": "form",
        "id": "8Q8D8RiC9uRu",
        "colab": {
          "base_uri": "https://localhost:8080/"
        },
        "outputId": "05008a7b-702f-44cc-94bc-7f7f09869a56"
      },
      "execution_count": 11,
      "outputs": [
        {
          "output_type": "stream",
          "name": "stdout",
          "text": [
            "\n"
          ]
        }
      ]
    },
    {
      "cell_type": "code",
      "source": [
        "#@title Parameters\n",
        "#@markdown Parameters for the landsat 8 image collection\n",
        "Start_Date = '2019-01-01' #@param {type:\"date\"}\n",
        "start_date = Start_Date\n",
        "End_Date = '2020-01-01'  #@param {type:\"date\"}\n",
        "end_date = End_Date\n",
        "Scale = 30  #@param {type : 'slider', min:0, max:500, step:10  }\n",
        "scale = Scale\n",
        "\n",
        "\n",
        "#@title Create an AOI\n",
        "\n",
        "#@title Create an AOI\n",
        "if len(arr2)>1:\n",
        "  study_shp = path +'/'+ shape_file.value\n",
        "else:\n",
        "  study_shp = path +'/'+ shape_file\n",
        "study = geemap.shp_to_ee(study_shp)\n",
        "\n",
        "\n",
        "padding = 500 #@param {type : 'slider', min:0, max:10000, step:100  }\n",
        "padding_d = todegrees(padding)\n",
        "bound_coordinates = study.geometry().bounds().coordinates().getInfo()[0]\n",
        "Upper_left = [a - padding_d for a in bound_coordinates[0]]\n",
        "Bottom_right = [b + padding_d for b in bound_coordinates[2]]\n",
        "\n",
        "lon_1 = Upper_left[0]\n",
        "lon_2 = Bottom_right[0]\n",
        "lat_1 = Upper_left[1]\n",
        "lat_2 = Bottom_right[1]\n",
        "\n",
        "AOI_coordinates =  [[lon_1, lat_2],\n",
        "                    [lon_1, lat_1],\n",
        "                    [lon_2, lat_1],\n",
        "                    [lon_2, lat_2],\n",
        "                    [lon_1, lat_2]]\n",
        "      \n",
        "\n",
        "#@title Create tiles\n",
        "Max_tile_size_km = 15 #@param {type : 'slider', min:0, max:50, step:5  }\n",
        "tile_size = todegrees(Max_tile_size_km * 1000)\n",
        "\n",
        "\n",
        "Show_on_Map = False #@param {type:\"boolean\"}\n",
        "# coords = geoJason['features'][0]['geometry']['coordinates']\n",
        "# aoi = ee.Geometry.Polygon(coords)\n",
        "aoi = ee.Geometry.Polygon(AOI_coordinates)\n",
        "\n",
        "center = [(lat_1+lat_2)/2,(lon_1+lon_2)/2]\n",
        "if Show_on_Map == True:\n",
        "  Map = geemap.Map(center = (center[0], center[1]), zoom=9)\n",
        "  Map.addLayer(aoi,{},'aoi')\n",
        "  Map.addLayer(study, {}, 'study area')\n",
        "  display(Map)\n",
        "\n"
      ],
      "metadata": {
        "id": "-XW6pLrDLTlX",
        "cellView": "form"
      },
      "execution_count": 12,
      "outputs": []
    },
    {
      "cell_type": "code",
      "source": [
        "#@title Collect Images\n",
        "\n",
        "\n",
        "satellite = 'Landsat 8' #@param ['Landsat 9', 'Landsat 8','Landsat 7','Landsat 5','Landsat 4']\n",
        "\n",
        "tier = 2 #@param {type : 'slider', min:1, max:2, step:1  }\n",
        "level = 2 #@param {type : 'slider', min:1, max:2, step:1  }\n",
        "\n",
        "stat_method = 'median' #@param ['median','mean','mode']\n",
        "\n",
        "image_collections =  {'Landsat 9': \"LANDSAT/LC09/C02/T%s_L%s\" %(tier,level),\n",
        "                      'Landsat 8': \"LANDSAT/LC08/C02/T%s_L%s\" %(tier,level),\n",
        "                      'Landsat 7': \"LANDSAT/LE07/C02/T%s_L%s\" %(tier,level),\n",
        "                      'Landsat 5': \"LANDSAT/LT05/C02/T%s_L%s\" %(tier,level),\n",
        "                      'Landsat 4': \"LANDSAT/LT04/C02/T%s_L%s\" %(tier,level)}\n",
        "\n",
        "selected_img_col = image_collections[satellite]\n",
        "\n",
        "url_extension = selected_img_col.replace(\"/\", \"_\" )\n",
        "\n",
        "print('For more details about the Image collection, visit:')\n",
        "\n",
        "print('https://developers.google.com/earth-engine/datasets/catalog/'+url_extension)\n",
        "\n",
        "img_col = (ee.ImageCollection(selected_img_col)\n",
        "          .filterBounds(study)\n",
        "          .filterDate(start_date,end_date)\n",
        "          .map(lambda img: img.set('date', ee.Date(img.date()).format('YYYYMMdd')))\n",
        "          .sort('date'))\n",
        "\n",
        "if stat_method == 'median':\n",
        "  result = img_col.median()\n",
        "\n",
        "elif stat_method == 'mean':\n",
        "  result = img_col.mean()\n",
        "\n",
        "elif stat_method == 'mode':\n",
        "  result = img_col.mode()"
      ],
      "metadata": {
        "id": "jTT3QJgsLTec",
        "colab": {
          "base_uri": "https://localhost:8080/"
        },
        "cellView": "form",
        "outputId": "c4365264-fe5f-4320-aad9-fec4673da550"
      },
      "execution_count": 27,
      "outputs": [
        {
          "output_type": "stream",
          "name": "stdout",
          "text": [
            "For more details about the Image collection, visit:\n",
            "https://developers.google.com/earth-engine/datasets/catalog/LANDSAT_LC08_C02_T2_L2\n"
          ]
        }
      ]
    },
    {
      "cell_type": "code",
      "execution_count": 19,
      "metadata": {
        "cellView": "form",
        "colab": {
          "base_uri": "https://localhost:8080/"
        },
        "id": "moY9GV815zE9",
        "outputId": "8235d570-c3e8-40d0-b3ed-3dd7cf529acd"
      },
      "outputs": [
        {
          "output_type": "stream",
          "name": "stdout",
          "text": [
            "\n",
            " 6 tiles created\n",
            "Generating URL ...\n",
            "Downloading data from https://earthengine.googleapis.com/v1alpha/projects/earthengine-legacy/thumbnails/2842770948645b378cc4a7d1bbccb583-bbada1ea4e77fee3b4caf9e0462770b8:getPixels\n",
            "Please wait ...\n",
            "Data downloaded to /content/drive/MyDrive/geeethya_para_3/tiles/2019-01-01_aoi_0.tif\n",
            "Generating URL ...\n",
            "Downloading data from https://earthengine.googleapis.com/v1alpha/projects/earthengine-legacy/thumbnails/c016bfee215ff100c03db4456b5e8be1-04b23df46ff9e268527cc8190c95966e:getPixels\n",
            "Please wait ...\n",
            "Data downloaded to /content/drive/MyDrive/geeethya_para_3/tiles/2019-01-01_aoi_1.tif\n",
            "Generating URL ...\n",
            "Downloading data from https://earthengine.googleapis.com/v1alpha/projects/earthengine-legacy/thumbnails/c33e51c66791ebdc9b3824043883f13d-81dcd2a54f5161395a93ee3448236ce1:getPixels\n",
            "Please wait ...\n",
            "Data downloaded to /content/drive/MyDrive/geeethya_para_3/tiles/2019-01-01_aoi_2.tif\n",
            "Generating URL ...\n",
            "Downloading data from https://earthengine.googleapis.com/v1alpha/projects/earthengine-legacy/thumbnails/48d0b4d5a5951bd978d9023e952e3964-93b7d666e6d8d617aae77e71128ba900:getPixels\n",
            "Please wait ...\n",
            "Data downloaded to /content/drive/MyDrive/geeethya_para_3/tiles/2019-01-01_aoi_3.tif\n",
            "Generating URL ...\n",
            "Downloading data from https://earthengine.googleapis.com/v1alpha/projects/earthengine-legacy/thumbnails/b191f8e3f459293e132db706ebcb5808-407d219ea183c83d5a30bd4d05c2bfc9:getPixels\n",
            "Please wait ...\n",
            "Data downloaded to /content/drive/MyDrive/geeethya_para_3/tiles/2019-01-01_aoi_4.tif\n",
            "Generating URL ...\n",
            "Downloading data from https://earthengine.googleapis.com/v1alpha/projects/earthengine-legacy/thumbnails/74ee5e542cb6ce449ce68faea1be0ba2-6b0acb56884a4f470e7168ad3a18802e:getPixels\n",
            "Please wait ...\n"
          ]
        },
        {
          "output_type": "stream",
          "name": "stderr",
          "text": [
            "WARNING:rasterio._env:CPLE_AppDefined in /content/drive/MyDrive/geeethya_para_3/tiles/2019-01-01_aoi_0.tif: TIFFReadDirectory:Sum of Photometric type-related color channels and ExtraSamples doesn't match SamplesPerPixel. Defining non-color channels as ExtraSamples.\n",
            "WARNING:rasterio._env:CPLE_AppDefined in /content/drive/MyDrive/geeethya_para_3/tiles/2019-01-01_aoi_1.tif: TIFFReadDirectory:Sum of Photometric type-related color channels and ExtraSamples doesn't match SamplesPerPixel. Defining non-color channels as ExtraSamples.\n",
            "WARNING:rasterio._env:CPLE_AppDefined in /content/drive/MyDrive/geeethya_para_3/tiles/2019-01-01_aoi_2.tif: TIFFReadDirectory:Sum of Photometric type-related color channels and ExtraSamples doesn't match SamplesPerPixel. Defining non-color channels as ExtraSamples.\n",
            "WARNING:rasterio._env:CPLE_AppDefined in /content/drive/MyDrive/geeethya_para_3/tiles/2019-01-01_aoi_3.tif: TIFFReadDirectory:Sum of Photometric type-related color channels and ExtraSamples doesn't match SamplesPerPixel. Defining non-color channels as ExtraSamples.\n",
            "WARNING:rasterio._env:CPLE_AppDefined in /content/drive/MyDrive/geeethya_para_3/tiles/2019-01-01_aoi_4.tif: TIFFReadDirectory:Sum of Photometric type-related color channels and ExtraSamples doesn't match SamplesPerPixel. Defining non-color channels as ExtraSamples.\n",
            "WARNING:rasterio._env:CPLE_AppDefined in /content/drive/MyDrive/geeethya_para_3/tiles/2019-01-01_aoi_5.tif: TIFFReadDirectory:Sum of Photometric type-related color channels and ExtraSamples doesn't match SamplesPerPixel. Defining non-color channels as ExtraSamples.\n"
          ]
        },
        {
          "output_type": "stream",
          "name": "stdout",
          "text": [
            "Data downloaded to /content/drive/MyDrive/geeethya_para_3/tiles/2019-01-01_aoi_5.tif\n",
            "2019-01-01 TIFF files were saved at /content/drive/MyDrive/geeethya_para_3/tiles/\n",
            " Result was saved at /content/drive/MyDrive/geeethya_para_3/mosaic_2019-01-01.tif "
          ]
        }
      ],
      "source": [
        "#@title Export\n",
        "\n",
        "\n",
        "n_cols = int((lon_2 - lon_1) / tile_size) + 1\n",
        "n_rows = int((lat_2 - lat_1) / tile_size) + 1\n",
        "n_tiles = n_cols * n_rows\n",
        "n_tiles\n",
        "e_0 = lon_1\n",
        "e = [e_0]\n",
        "for aa in range (n_cols):\n",
        "  globals()['e_%s' % str(aa+1)] = e_0 + (lon_2 - lon_1)/n_cols * (aa+1)\n",
        "  e.append(globals()['e_%s' % str(aa+1)])\n",
        "# e\n",
        "n_0 = lat_1\n",
        "n = [n_0]\n",
        "for ab in range (n_rows):\n",
        "  globals()['e_%s' % str(ab+1)] = n_0 + (lat_2 - lat_1)/n_rows * (ab+1)\n",
        "  n.append(globals()['e_%s' % str(ab+1)])\n",
        "# n\n",
        "ac = 0\n",
        "aois = []\n",
        "for ae in range (len(e)-1):\n",
        "  for an in range (len(n)-1):\n",
        "      globals()['aoi_%s' % ac] = rectangle(e[ae],e[ae+1],n[an],n[an+1])\n",
        "      aois.append('aoi_' + str(ac))\n",
        "      ac = ac +1\n",
        "\n",
        "print ('\\n',len(aois), 'tiles created')\n",
        "\n",
        "#@title Export Data \n",
        "Export_to = '/content/drive/MyDrive/geeethya_para_3' #@param{type : \"string\"}\n",
        "folder = Export_to + '/tiles'\n",
        "\n",
        "created_path = os.path.isdir(folder)\n",
        "if created_path == True:\n",
        "    print('Folder already exists')\n",
        "\n",
        "else:\n",
        "\n",
        "  try:\n",
        "      os.mkdir(Export_to)\n",
        "  except:\n",
        "      print('path not created')\n",
        "\n",
        "  try:\n",
        "      os.mkdir(folder)\n",
        "  except:\n",
        "      print('folder not created')\n",
        "\n",
        "created_path = os.path.isdir(folder)\n",
        "if created_path == False:\n",
        "    print('Something went wrong please create the path manualy and come back')\n",
        "\n",
        "\n",
        "for roi in aois:\n",
        "  c_aoi = globals()[roi]\n",
        "  path = folder+'/'+start_date+'_'+roi+'.tif'\n",
        "  # with io.capture_output() as captured:\n",
        "  # print(path)\n",
        "  geemap.ee_export_image(result, filename=path, scale=scale, region=c_aoi, file_per_band=False)\n",
        "\n",
        "\n",
        "print ('%s TIFF files were saved at %s/' %(start_date,folder))\n",
        "\n",
        "path2 = Export_to+'/mosaic_%s.tif' %start_date\n",
        "search_criteria = \"*aoi*.tif\"\n",
        "q = os.path.join(folder, search_criteria)\n",
        "dem_fps = glob.glob(q)\n",
        "src_files_to_mosaic = []\n",
        "for fp in dem_fps:\n",
        "  src = rasterio.open(fp)\n",
        "  src_files_to_mosaic.append(src)\n",
        "mosaic, out_trans = merge(src_files_to_mosaic)\n",
        "\n",
        "out_meta = src.meta.copy()\n",
        "\n",
        "out_meta.update({\"driver\": \"GTiff\",\n",
        "              \"height\": mosaic.shape[1],\n",
        "              \"width\": mosaic.shape[2],\n",
        "              \"transform\": out_trans,\n",
        "              }\n",
        "              )\n",
        "\n",
        "with rasterio.open(path2, \"w\", **out_meta) as dest:\n",
        "  dest.write(mosaic)\n",
        "\n",
        "print ('\\r','Result was saved at %s ' %path2 , end = '')"
      ]
    }
  ]
}